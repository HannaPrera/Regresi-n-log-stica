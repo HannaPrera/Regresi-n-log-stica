{
 "cells": [
  {
   "cell_type": "code",
   "execution_count": 113,
   "metadata": {
    "collapsed": true
   },
   "outputs": [],
   "source": [
    "%matplotlib inline\n",
    "import numpy as np\n",
    "import matplotlib\n",
    "import matplotlib.pyplot as plt\n",
    "from sklearn.datasets import fetch_mldata"
   ]
  },
  {
   "cell_type": "markdown",
   "metadata": {},
   "source": [
    "# Regresión Logistica\n",
    "\n",
    "Vamos a utilizar el MNIST data set para este ejercicio de regresión logística, el data set contiene imágenes de los dígitos del 0 al 9. Por el momento vamos a hacer una clasificación binaria por lo que nuestro algoritmo nos va a dar como resultado la probabilidad de que un digito sea *6*."
   ]
  },
  {
   "cell_type": "markdown",
   "metadata": {},
   "source": [
    "# Data"
   ]
  },
  {
   "cell_type": "code",
   "execution_count": 114,
   "metadata": {
    "collapsed": true
   },
   "outputs": [],
   "source": [
    "mnist = fetch_mldata('MNIST original')"
   ]
  },
  {
   "cell_type": "markdown",
   "metadata": {},
   "source": [
    "## Explorando los datos"
   ]
  },
  {
   "cell_type": "markdown",
   "metadata": {},
   "source": [
    "La estructura de este data set es similar a la de un diccionario:\n",
    "* DESCR: Llave que contiene la descripcion del set de datos\n",
    "\n",
    "* DATA: Esta llave contiene un arreglo con una fila por instania u una columna por feature\n",
    "\n",
    "* TARGET: Esta llave contiene un arreglo con las labels"
   ]
  },
  {
   "cell_type": "code",
   "execution_count": 115,
   "metadata": {},
   "outputs": [
    {
     "data": {
      "text/plain": [
       "{'COL_NAMES': ['label', 'data'],\n",
       " 'DESCR': 'mldata.org dataset: mnist-original',\n",
       " 'data': array([[0, 0, 0, ..., 0, 0, 0],\n",
       "        [0, 0, 0, ..., 0, 0, 0],\n",
       "        [0, 0, 0, ..., 0, 0, 0],\n",
       "        ..., \n",
       "        [0, 0, 0, ..., 0, 0, 0],\n",
       "        [0, 0, 0, ..., 0, 0, 0],\n",
       "        [0, 0, 0, ..., 0, 0, 0]], dtype=uint8),\n",
       " 'target': array([ 0.,  0.,  0., ...,  9.,  9.,  9.])}"
      ]
     },
     "execution_count": 115,
     "metadata": {},
     "output_type": "execute_result"
    }
   ],
   "source": [
    "mnist"
   ]
  },
  {
   "cell_type": "markdown",
   "metadata": {},
   "source": [
    "Exploremos los datos para entender la data, empecemos con imprir la forma de los datos"
   ]
  },
  {
   "cell_type": "code",
   "execution_count": 116,
   "metadata": {},
   "outputs": [
    {
     "name": "stdout",
     "output_type": "stream",
     "text": [
      "X Shape:  (70000, 784)\n",
      "y Shape:  (70000,)\n"
     ]
    }
   ],
   "source": [
    "X, y = mnist[\"data\"], mnist[\"target\"]\n",
    "print('X Shape: ', X.shape)\n",
    "print('y Shape: ', y.shape)"
   ]
  },
  {
   "cell_type": "markdown",
   "metadata": {
    "collapsed": true
   },
   "source": [
    "Hay 70,000 imagenes, cada imagen tiene 784 features.\n",
    "Son 784 feautures por imagen, porque cada imagen es de 28x28 pixeles, cada pixel de la imagen es una feature para nosotros, cada feature va a tener un valor entre 0 (blanco) y 255 (negro).\n",
    "\n",
    "Examinenos un ejemplo:"
   ]
  },
  {
   "cell_type": "code",
   "execution_count": 117,
   "metadata": {
    "collapsed": true
   },
   "outputs": [],
   "source": [
    "def mostrar_digito(digito):\n",
    "    digito = digito.reshape(28, 28)\n",
    "\n",
    "    plt.imshow(digito, cmap = matplotlib.cm.binary,\n",
    "               interpolation=\"nearest\")\n",
    "    plt.axis(\"off\")\n",
    "    plt.show()"
   ]
  },
  {
   "cell_type": "code",
   "execution_count": 118,
   "metadata": {},
   "outputs": [
    {
     "data": {
      "text/plain": [
       "0.0"
      ]
     },
     "execution_count": 118,
     "metadata": {},
     "output_type": "execute_result"
    }
   ],
   "source": [
    "## Imprimimos el valor del label ##\n",
    "y[10]"
   ]
  },
  {
   "cell_type": "code",
   "execution_count": 119,
   "metadata": {},
   "outputs": [
    {
     "data": {
      "image/png": "[encoded data removed]",
      "text/plain": [
       "<matplotlib.figure.Figure at 0x1ac6bb61c50>"
      ]
     },
     "metadata": {},
     "output_type": "display_data"
    }
   ],
   "source": [
    "algun_digito = X[10]\n",
    "mostrar_digito(algun_digito)"
   ]
  },
  {
   "cell_type": "markdown",
   "metadata": {},
   "source": [
    "# Feature escala y normalizacion\n",
    "\n",
    "\n",
    "### Normalizacion\n",
    "Este proceso se aplica en machine learning para manejar de mejor manera los datos, de preferencia valores entre 0 y 1, podemos utilizar la siguiente formula:\n",
    "\n",
    "$z_{i}= {\\frac {x_{i}−min(x)} {max(x)−min(x)}}$\n",
    "\n",
    "Debemos considerar lo siguiente:\n",
    "* Mis variables estan en una escala comparable?\n",
    "* Mi varaible es discreta, deberia de transformala en continua?\n",
    "\n",
    "En este caso nuestras features estan en valores entre 0 y 255, Como los transformamos en una escala entre 0 y 1??\n",
    "A continuacion vamos a implementar la funcion normalizacion que va a recibir de parametro "
   ]
  },
  {
   "cell_type": "code",
   "execution_count": 120,
   "metadata": {},
   "outputs": [],
   "source": [
    "def normalizar(features):\n",
    "    features = features/255\n",
    "    return features"
   ]
  },
  {
   "cell_type": "code",
   "execution_count": 121,
   "metadata": {},
   "outputs": [
    {
     "ename": "NameError",
     "evalue": "name 'features' is not defined",
     "output_type": "error",
     "traceback": [
      "\u001b[1;31m---------------------------------------------------------------------------\u001b[0m",
      "\u001b[1;31mNameError\u001b[0m                                 Traceback (most recent call last)",
      "\u001b[1;32m<ipython-input-121-c2b2349965da>\u001b[0m in \u001b[0;36m<module>\u001b[1;34m()\u001b[0m\n\u001b[1;32m----> 1\u001b[1;33m \u001b[0mfeatures\u001b[0m\u001b[1;33m[\u001b[0m\u001b[1;36m100\u001b[0m\u001b[1;33m]\u001b[0m\u001b[1;33m\u001b[0m\u001b[0m\n\u001b[0m\u001b[0;32m      2\u001b[0m \u001b[1;31m## los valores deben estar entre 0 y 1\u001b[0m\u001b[1;33m\u001b[0m\u001b[1;33m\u001b[0m\u001b[0m\n",
      "\u001b[1;31mNameError\u001b[0m: name 'features' is not defined"
     ]
    }
   ],
   "source": [
    "features[100]\n",
    "## los valores deben estar entre 0 y 1"
   ]
  },
  {
   "cell_type": "markdown",
   "metadata": {},
   "source": [
    "### Estandarización o Z-score Normalizacion \n",
    "\n",
    "El objetivo es cambiar la escala de las features a modo que tengan las propiedades de una distribución estadar normal. Se calcula de la siguiente manera:\n",
    "\n",
    "$z = {\\frac {x - \\mu} {\\sigma}}$\n",
    "\n",
    " Esto quiere decir que las features van a estar centradas cerca de 0 ($\\mu$=0) con una desviación estándar de 1 ($\\sigma$=1). Esto es útil en machine learning en algoritmos que utilizan gradient descent si tenemos features en diferentes escalas puede que ciertos pesos se actualicen mas rápido que otros.\n",
    " \n",
    "#### Estandarización o Z-score Normalizacion con Scikit-lean\n",
    "Para calcular los z-scores de las features vamos a utilizar una funcion de Scicit-lean"
   ]
  },
  {
   "cell_type": "code",
   "execution_count": 122,
   "metadata": {
    "collapsed": true
   },
   "outputs": [],
   "source": [
    "from sklearn import preprocessing\n",
    "\n",
    "def estandarizacion(features):\n",
    "    std_scale = preprocessing.StandardScaler().fit(features)\n",
    "    df_std = std_scale.transform(features)\n",
    "    \n",
    "    return df_std"
   ]
  },
  {
   "cell_type": "code",
   "execution_count": 123,
   "metadata": {},
   "outputs": [
    {
     "name": "stderr",
     "output_type": "stream",
     "text": [
      "C:\\Users\\User\\ANACONDA3\\lib\\site-packages\\sklearn\\utils\\validation.py:475: DataConversionWarning: Data with input dtype uint8 was converted to float64 by StandardScaler.\n",
      "  warnings.warn(msg, DataConversionWarning)\n"
     ]
    },
    {
     "data": {
      "text/plain": [
       "array([  0.00000000e+00,   0.00000000e+00,   0.00000000e+00,\n",
       "         0.00000000e+00,   0.00000000e+00,   0.00000000e+00,\n",
       "         0.00000000e+00,   0.00000000e+00,   0.00000000e+00,\n",
       "         0.00000000e+00,   0.00000000e+00,   0.00000000e+00,\n",
       "        -4.09033971e-03,  -5.32791506e-03,  -3.77967173e-03,\n",
       "        -3.77967173e-03,   0.00000000e+00,   0.00000000e+00,\n",
       "         0.00000000e+00,   0.00000000e+00,   0.00000000e+00,\n",
       "         0.00000000e+00,   0.00000000e+00,   0.00000000e+00,\n",
       "         0.00000000e+00,   0.00000000e+00,   0.00000000e+00,\n",
       "         0.00000000e+00,   0.00000000e+00,   0.00000000e+00,\n",
       "         0.00000000e+00,   0.00000000e+00,  -3.77967173e-03,\n",
       "        -5.76560474e-03,  -8.56450342e-03,  -1.13679013e-02,\n",
       "        -1.46487258e-02,  -1.91989290e-02,  -2.44645869e-02,\n",
       "        -3.01635248e-02,  -3.19591431e-02,  -3.22334599e-02,\n",
       "        -3.30400834e-02,  -3.08682833e-02,  -3.02683577e-02,\n",
       "        -2.74423638e-02,  -2.29285604e-02,  -1.85337642e-02,\n",
       "        -1.61142119e-02,  -1.01805633e-02,  -7.70728530e-03,\n",
       "        -4.05572859e-03,   0.00000000e+00,   0.00000000e+00,\n",
       "         0.00000000e+00,   0.00000000e+00,   0.00000000e+00,\n",
       "         0.00000000e+00,  -3.77967173e-03,  -4.99510937e-03,\n",
       "        -7.89017972e-03,  -1.07311195e-02,  -1.83630196e-02,\n",
       "        -2.80107849e-02,  -3.76452255e-02,  -5.31175436e-02,\n",
       "        -6.92334482e-02,  -8.66558966e-02,  -1.02850786e-01,\n",
       "        -1.18110995e-01,  -1.30691496e-01,  -1.38848754e-01,\n",
       "        -1.38365794e-01,  -1.30242045e-01,  -1.18277448e-01,\n",
       "        -9.98915533e-02,  -7.76508624e-02,  -5.58709219e-02,\n",
       "        -3.86691401e-02,  -2.34483412e-02,  -1.30735226e-02,\n",
       "        -7.24991795e-03,   0.00000000e+00,   0.00000000e+00,\n",
       "         0.00000000e+00,   0.00000000e+00,  -4.97014159e-03,\n",
       "        -8.21253907e-03,  -1.34764722e-02,  -2.22110970e-02,\n",
       "        -3.56513311e-02,  -5.56761183e-02,  -7.98435730e-02,\n",
       "        -1.09238700e-01,  -1.39728380e-01,  -1.70272066e-01,\n",
       "        -1.99548969e-01,  -2.27193902e-01,  -2.49570370e-01,\n",
       "        -2.61738597e-01,  -2.60740612e-01,  -2.44924387e-01,\n",
       "        -2.18978964e-01,  -1.84463841e-01,  -1.45804390e-01,\n",
       "        -1.06490284e-01,  -7.63409650e-02,  -4.75371129e-02,\n",
       "        -2.97615467e-02,  -1.53867477e-02,  -6.00408585e-03,\n",
       "         0.00000000e+00,   0.00000000e+00,  -3.77967173e-03,\n",
       "        -7.18750213e-03,  -1.47881050e-02,  -2.40965376e-02,\n",
       "        -4.87677058e-02,  -7.87308969e-02,  -1.16673526e-01,\n",
       "        -1.61890999e-01,  -2.14423440e-01,  -2.70078243e-01,\n",
       "        -3.29878231e-01,   5.20412937e-01,   3.86091846e-01,\n",
       "        -3.01528908e-01,  -5.25912999e-01,  -5.18157558e-01,\n",
       "        -4.79975530e-01,  -4.20363343e-01,  -3.53899102e-01,\n",
       "        -2.81976899e-01,  -2.15408173e-01,  -1.57958560e-01,\n",
       "        -1.08794272e-01,  -7.04787924e-02,  -3.81588842e-02,\n",
       "        -1.54301729e-02,  -5.34243039e-03,   0.00000000e+00,\n",
       "        -3.77967173e-03,  -1.12468183e-02,  -2.19131307e-02,\n",
       "        -5.26154207e-02,  -9.07628508e-02,  -1.40139151e-01,\n",
       "        -1.97356827e-01,  -2.64620807e-01,  -2.30558423e-01,\n",
       "         7.32376759e-01,   2.08422178e+00,   2.00306124e+00,\n",
       "         1.72783815e+00,   1.36288405e+00,   6.99447519e-01,\n",
       "        -5.65354674e-02,  -5.44160572e-01,  -6.65619418e-01,\n",
       "        -5.55003270e-01,  -4.46467586e-01,  -3.45914969e-01,\n",
       "        -2.59988373e-01,  -1.89407000e-01,  -1.30468806e-01,\n",
       "        -7.42590679e-02,  -3.29947152e-02,  -7.59994502e-03,\n",
       "         0.00000000e+00,  -5.15694811e-03,  -1.48088873e-02,\n",
       "        -3.67627695e-02,  -8.02720492e-02,  -1.33255576e-01,\n",
       "        -1.98498386e-01,  -2.75337070e-01,  -3.64272027e-01,\n",
       "         5.99871746e-01,   2.15120938e+00,   1.78208902e+00,\n",
       "         1.51100105e+00,   1.31596127e+00,   1.13151572e+00,\n",
       "         1.15207792e+00,   1.16782794e+00,   1.05182477e+00,\n",
       "         3.46333373e-01,  -5.78783726e-01,  -5.79183399e-01,\n",
       "        -4.50289348e-01,  -3.37563823e-01,  -2.47105204e-01,\n",
       "        -1.72186559e-01,  -1.03458604e-01,  -4.82337379e-02,\n",
       "        -1.52768825e-02,  -3.77967173e-03,  -1.30273270e-02,\n",
       "        -2.66071791e-02,  -5.99703604e-02,  -1.13861901e-01,\n",
       "        -1.78350623e-01,  -2.57252188e-01,  -3.50791436e-01,\n",
       "         1.83737455e-01,   1.74828812e+00,   1.75103572e+00,\n",
       "         1.46930911e+00,   4.24595438e-01,  -3.74941365e-01,\n",
       "        -1.00573489e+00,  -4.59157725e-01,  -1.22696994e-02,\n",
       "         7.34851190e-01,   1.25694188e+00,   1.31996250e+00,\n",
       "         1.73642306e-01,  -5.30519796e-01,  -3.94959039e-01,\n",
       "        -2.85395441e-01,  -1.96008898e-01,  -1.21045587e-01,\n",
       "        -5.66267360e-02,  -1.52768281e-02,  -4.65269402e-03,\n",
       "        -1.78237540e-02,  -4.31662295e-02,  -8.46363011e-02,\n",
       "        -1.39601648e-01,  -2.10430863e-01,  -2.98733157e-01,\n",
       "        -3.79355894e-01,   1.48107055e+00,   1.83330913e+00,\n",
       "         1.46589150e+00,  -3.19298442e-03,  -1.06812146e+00,\n",
       "        -1.10718368e+00,  -1.10548359e+00,  -1.10380725e+00,\n",
       "        -1.10874523e+00,  -1.03019097e+00,  -6.67980996e-02,\n",
       "         1.34647857e+00,   1.66603021e+00,   1.25279003e+00,\n",
       "        -3.53473328e-01,  -2.96071478e-01,  -1.97280363e-01,\n",
       "        -1.21017738e-01,  -5.59200960e-02,  -1.38775989e-02,\n",
       "        -6.91860490e-03,  -2.24789536e-02,  -5.23063936e-02,\n",
       "        -9.30852679e-02,  -1.49872512e-01,  -2.25051844e-01,\n",
       "        -3.21973111e-01,   6.75788559e-01,   2.10793247e+00,\n",
       "         1.61937529e+00,  -2.11261926e-01,  -9.96689755e-01,\n",
       "        -9.94208872e-01,  -9.46219828e-01,  -9.07563211e-01,\n",
       "        -9.14153319e-01,  -9.55417377e-01,  -1.00560252e+00,\n",
       "        -1.00098368e+00,  -1.91677997e-01,   1.58276771e+00,\n",
       "         2.17012235e+00,   1.81164450e+00,  -2.31332962e-01,\n",
       "        -1.81514895e-01,  -1.05315153e-01,  -4.86576757e-02,\n",
       "        -1.48979864e-02,  -7.04317483e-03,  -2.28796949e-02,\n",
       "        -5.24469861e-02,  -9.17051981e-02,  -1.46245134e-01,\n",
       "        -2.25248924e-01,  -3.30903969e-01,   1.64291944e+00,\n",
       "         1.99295605e+00,   5.46684263e-01,  -9.15616825e-01,\n",
       "        -9.33521265e-01,  -8.65626947e-01,  -7.93989820e-01,\n",
       "        -7.71394580e-01,  -8.03839747e-01,  -8.74741580e-01,\n",
       "        -9.54846103e-01,  -9.64955211e-01,  -8.63108698e-01,\n",
       "        -2.98443231e-01,   2.01009899e+00,   3.14099245e+00,\n",
       "         1.11618459e+00,  -1.60341037e-01,  -8.10741619e-02,\n",
       "        -3.82838982e-02,  -1.31382250e-02,  -7.10910567e-03,\n",
       "        -2.04775438e-02,  -4.64194800e-02,  -8.06794893e-02,\n",
       "        -1.35503725e-01,  -2.23369112e-01,   1.49693442e+00,\n",
       "         2.55422740e+00,   1.16066124e+00,  -8.07954386e-01,\n",
       "        -9.02452736e-01,  -8.71529092e-01,  -7.81117795e-01,\n",
       "        -7.31060484e-01,  -7.40789749e-01,  -8.03316337e-01,\n",
       "        -9.02672039e-01,  -9.80917910e-01,  -9.57897884e-01,\n",
       "        -8.24678339e-01,  -6.54346576e-01,  -5.03794956e-02,\n",
       "         3.25258654e+00,   4.41331514e+00,   4.06111670e-01,\n",
       "        -6.17109950e-02,  -2.88340582e-02,  -9.58204205e-03,\n",
       "        -4.91086518e-03,  -1.60104154e-02,  -3.58955318e-02,\n",
       "        -6.74269756e-02,  -1.26060343e-01,   1.36384154e+00,\n",
       "         3.50046975e+00,   2.42889680e+00,   6.11674860e-01,\n",
       "        -8.33100713e-01,  -8.91152437e-01,  -8.40423190e-01,\n",
       "        -7.64350100e-01,  -7.69165506e-01,  -8.21132383e-01,\n",
       "        -9.19463904e-01,  -1.03167040e+00,  -1.06078742e+00,\n",
       "        -9.67662701e-01,  -7.94222074e-01,  -6.15893385e-01,\n",
       "        -4.69246779e-01,   3.14085889e+00,   4.81293321e+00,\n",
       "         3.77837809e+00,  -5.39174635e-02,  -2.11918186e-02,\n",
       "        -9.18590541e-03,  -3.77967173e-03,  -1.10465386e-02,\n",
       "        -2.54755545e-02,  -5.61445054e-02,  -1.23310197e-01,\n",
       "         3.33985654e+00,   3.31928248e+00,   1.82312022e+00,\n",
       "        -4.92935143e-01,  -8.39087227e-01,  -8.79905353e-01,\n",
       "        -8.38925855e-01,  -8.13727912e-01,  -8.90720216e-01,\n",
       "        -9.80856103e-01,  -1.11402056e+00,  -1.18458583e+00,\n",
       "        -1.13142595e+00,  -9.77053661e-01,  -7.74904953e-01,\n",
       "        -5.94232821e-01,  -4.61081574e-01,   8.42157355e-01,\n",
       "         4.61375213e+00,   4.95844971e+00,  -5.90569987e-02,\n",
       "        -2.18908477e-02,  -6.85504492e-03,  -3.77967173e-03,\n",
       "        -7.39573705e-03,  -1.80683821e-02,  -5.01367764e-02,\n",
       "        -1.28037209e-01,   5.06468679e+00,   3.12504377e+00,\n",
       "         8.20240306e-01,  -7.08823642e-01,  -8.26544425e-01,\n",
       "        -8.65942795e-01,  -8.58625060e-01,  -9.01910118e-01,\n",
       "        -1.03511528e+00,  -1.14814285e+00,  -1.27786902e+00,\n",
       "        -1.25234018e+00,  -1.14063284e+00,  -9.64027680e-01,\n",
       "        -7.62501214e-01,  -5.96098359e-01,  -4.72335582e-01,\n",
       "        -6.60134562e-02,   4.01114585e+00,   7.53846978e+00,\n",
       "        -6.90336980e-02,  -2.37531510e-02,  -6.46674006e-03,\n",
       "        -4.41641398e-03,  -3.87865181e-03,  -1.83630842e-02,\n",
       "        -5.21800313e-02,  -1.39199540e-01,   4.62320892e+00,\n",
       "         2.69791134e+00,  -2.60889473e-01,  -6.91728383e-01,\n",
       "        -7.92188500e-01,  -8.40458331e-01,  -8.68555233e-01,\n",
       "        -9.58399102e-01,  -1.09640504e+00,  -1.20807715e+00,\n",
       "        -1.27769686e+00,  -1.18854153e+00,  -1.08125088e+00,\n",
       "        -9.24631320e-01,  -7.52809555e-01,  -6.09672630e-01,\n",
       "        -4.87569663e-01,   4.23791039e-02,   4.10146648e+00,\n",
       "         7.45429497e+00,  -7.69565006e-02,  -2.84092681e-02,\n",
       "        -9.06707992e-03,  -3.77967173e-03,  -7.07309539e-03,\n",
       "        -2.20501486e-02,  -5.99396433e-02,  -1.55795695e-01,\n",
       "         4.29469931e+00,   2.38088707e+00,  -5.44138131e-01,\n",
       "        -6.58656698e-01,  -7.40797451e-01,  -7.87415985e-01,\n",
       "        -8.32627877e-01,  -9.19328311e-01,  -1.02805934e+00,\n",
       "        -1.12435589e+00,  -1.14904693e+00,  -1.08400188e+00,\n",
       "        -1.00486175e+00,  -8.82803928e-01,  -7.45709727e-01,\n",
       "        -6.17479695e-01,  -4.94283302e-01,   1.02671050e+00,\n",
       "         4.59444711e+00,   7.58114799e+00,  -8.32510609e-02,\n",
       "        -3.27780727e-02,  -9.88905527e-03,   0.00000000e+00,\n",
       "        -8.26945990e-03,  -2.56025587e-02,  -7.30445030e-02,\n",
       "        -1.76409052e-01,   4.01282095e+00,   2.34267364e+00,\n",
       "        -5.33336900e-01,  -6.21503911e-01,  -5.46408634e-01,\n",
       "         7.46223656e-01,   8.37003479e-01,  -1.25951308e-01,\n",
       "        -9.19699601e-01,  -1.00616836e+00,  -1.03563926e+00,\n",
       "        -1.01572381e+00,  -9.60145139e-01,  -8.61919743e-01,\n",
       "        -7.44456802e-01,  -6.16412383e-01,  -1.78196414e-01,\n",
       "         3.27315906e+00,   4.90089807e+00,   5.07978463e+00,\n",
       "        -8.70989599e-02,  -3.44154851e-02,  -1.12609824e-02,\n",
       "        -5.46784913e-03,  -6.98941885e-03,  -3.35355603e-02,\n",
       "        -9.06862803e-02,  -1.97228658e-01,   2.92219990e+00,\n",
       "         2.54047083e+00,  -1.90016397e-01,  -6.06924884e-01,\n",
       "         1.02481108e+00,   1.72063592e+00,   3.07465520e-01,\n",
       "        -7.71513270e-01,  -8.70969602e-01,  -9.59166695e-01,\n",
       "        -1.01442512e+00,  -1.01686994e+00,  -9.62192203e-01,\n",
       "        -8.65786154e-01,  -7.38260809e-01,  -4.83454802e-01,\n",
       "         2.14565229e+00,   3.57533694e+00,   5.27592026e+00,\n",
       "         2.37086065e+00,  -8.42703907e-02,  -3.10891647e-02,\n",
       "        -9.76593914e-03,  -3.77967173e-03,  -1.01430948e-02,\n",
       "        -3.90186431e-02,  -1.03471750e-01,  -2.09720291e-01,\n",
       "         2.04056102e+00,   2.66098982e+00,   9.64079205e-01,\n",
       "        -5.11250611e-01,   1.09249160e+00,   1.55012281e+00,\n",
       "        -9.40647174e-03,  -7.55277746e-01,  -9.18977005e-01,\n",
       "        -1.01084364e+00,  -1.06529124e+00,  -1.05697117e+00,\n",
       "        -9.74887009e-01,  -8.53814159e-01,  -6.67428842e-01,\n",
       "         9.78430456e-01,   2.87978269e+00,   3.97320703e+00,\n",
       "         5.88742960e+00,   2.24523101e+00,  -7.74640554e-02,\n",
       "        -2.89643987e-02,  -7.75729192e-03,   0.00000000e+00,\n",
       "        -9.90223980e-03,  -4.28154164e-02,  -1.08872239e-01,\n",
       "        -2.07028567e-01,  -6.99221205e-03,   1.20888242e+00,\n",
       "         2.11312256e+00,   1.52616210e+00,   1.28992075e+00,\n",
       "         8.99071861e-01,   1.39997996e+00,   9.08300694e-01,\n",
       "         4.53165107e-01,  -6.41387065e-01,  -1.13648676e+00,\n",
       "        -1.07235588e+00,  -6.30632340e-01,   2.65039855e-01,\n",
       "         1.33082601e+00,   2.52448793e+00,   3.38635244e+00,\n",
       "         4.76779834e+00,   3.48407179e+00,  -1.20424192e-01,\n",
       "        -6.58348685e-02,  -2.60591490e-02,  -5.34503921e-03,\n",
       "        -3.77967173e-03,  -9.26693326e-03,  -4.05024287e-02,\n",
       "        -9.96526224e-02,  -1.86749440e-01,  -2.97956628e-01,\n",
       "        -3.99003396e-01,  -4.63106482e-02,   6.47311447e-01,\n",
       "        -2.97727998e-02,  -7.48023024e-01,   7.46091726e-01,\n",
       "         1.15349942e+00,   1.10729867e+00,   1.05142153e+00,\n",
       "         1.07278624e+00,   1.20080494e+00,   1.46367036e+00,\n",
       "         1.86030326e+00,   2.37713264e+00,   3.14782126e+00,\n",
       "         3.99515636e+00,   1.68401379e-01,  -7.40049759e-02,\n",
       "        -9.58491546e-02,  -4.96458838e-02,  -1.97026515e-02,\n",
       "        -3.77967173e-03,  -3.77967173e-03,  -5.55944811e-03,\n",
       "        -3.29085953e-02,  -7.86151085e-02,  -1.46928166e-01,\n",
       "        -2.41758488e-01,  -3.57654594e-01,  -4.84063145e-01,\n",
       "        -6.20090849e-01,  -7.55365280e-01,  -8.87591786e-01,\n",
       "        -1.00225933e+00,  -5.82824927e-01,   7.60209277e-01,\n",
       "         1.10000361e+00,   1.30930287e+00,   1.53015293e+00,\n",
       "         1.87754975e+00,   2.39421825e+00,   3.06384667e+00,\n",
       "         2.99183440e+00,   1.07950822e+00,  -1.57108327e-01,\n",
       "        -1.08203153e-01,  -6.92600744e-02,  -3.65483009e-02,\n",
       "        -1.20522670e-02,  -3.77967173e-03,   0.00000000e+00,\n",
       "        -3.77967173e-03,  -2.18058395e-02,  -5.13660659e-02,\n",
       "        -9.92902602e-02,  -1.67338122e-01,  -2.58225401e-01,\n",
       "        -3.67490281e-01,  -4.87842768e-01,  -6.12980871e-01,\n",
       "        -7.37589477e-01,  -8.42271482e-01,  -9.03085314e-01,\n",
       "        -9.03371239e-01,  -3.92098761e-01,  -1.00649016e-01,\n",
       "         7.24655197e-02,   2.99567079e-01,   5.86482005e-01,\n",
       "         7.23095569e-01,  -2.11340366e-01,  -1.51236702e-01,\n",
       "        -1.07406660e-01,  -7.26562333e-02,  -4.29566679e-02,\n",
       "        -2.03293307e-02,  -9.64735105e-03,   0.00000000e+00,\n",
       "         0.00000000e+00,   0.00000000e+00,  -9.58466514e-03,\n",
       "        -2.80885331e-02,  -5.68256448e-02,  -9.40080838e-02,\n",
       "        -1.51811744e-01,  -2.21337903e-01,  -3.01683053e-01,\n",
       "        -3.85665974e-01,  -4.67134738e-01,  -5.30066198e-01,\n",
       "        -5.65045516e-01,  -5.63377547e-01,  -5.29883083e-01,\n",
       "        -4.71909029e-01,  -3.99642131e-01,  -3.26848675e-01,\n",
       "        -2.55894961e-01,  -1.93337318e-01,  -1.43448776e-01,\n",
       "        -9.96590697e-02,  -6.96229515e-02,  -4.60225798e-02,\n",
       "        -2.46356766e-02,  -1.05664956e-02,  -4.40030003e-03,\n",
       "         0.00000000e+00,   0.00000000e+00,   0.00000000e+00,\n",
       "        -6.16992435e-03,  -1.04701968e-02,  -2.77438586e-02,\n",
       "        -5.09840841e-02,  -8.55694545e-02,  -1.27027273e-01,\n",
       "        -1.74570275e-01,  -2.21879339e-01,  -2.64406147e-01,\n",
       "        -2.93647520e-01,  -3.07624246e-01,  -3.06526547e-01,\n",
       "        -2.91801993e-01,  -2.66309977e-01,  -2.35758630e-01,\n",
       "        -2.01719250e-01,  -1.62591117e-01,  -1.26119246e-01,\n",
       "        -9.28365929e-02,  -6.42068488e-02,  -4.51370787e-02,\n",
       "        -2.80584929e-02,  -1.56838179e-02,  -6.33354469e-03,\n",
       "        -3.77967173e-03,   0.00000000e+00,   0.00000000e+00,\n",
       "         0.00000000e+00,   0.00000000e+00,  -3.77967173e-03,\n",
       "        -1.42732265e-02,  -3.09605600e-02,  -5.29532851e-02,\n",
       "        -7.85065984e-02,  -1.07277171e-01,  -1.32696172e-01,\n",
       "        -1.55511819e-01,  -1.73815222e-01,  -1.82390726e-01,\n",
       "        -1.81209913e-01,  -1.71565271e-01,  -1.54200945e-01,\n",
       "        -1.35971592e-01,  -1.16821159e-01,  -9.30244276e-02,\n",
       "        -7.22082221e-02,  -5.26048177e-02,  -3.66644247e-02,\n",
       "        -2.22959205e-02,  -1.28151900e-02,  -6.07549260e-03,\n",
       "        -3.77967173e-03,   0.00000000e+00,   0.00000000e+00,\n",
       "         0.00000000e+00,   0.00000000e+00,   0.00000000e+00,\n",
       "         0.00000000e+00,  -5.36063703e-03,  -8.38218346e-03,\n",
       "        -1.49433788e-02,  -2.13491220e-02,  -2.60321389e-02,\n",
       "        -3.11598615e-02,  -4.18871809e-02,  -4.55929839e-02,\n",
       "        -5.15821154e-02,  -5.55808688e-02,  -5.95819306e-02,\n",
       "        -5.61394172e-02,  -5.07180922e-02,  -4.21123809e-02,\n",
       "        -3.29509086e-02,  -2.33873272e-02,  -1.67504993e-02,\n",
       "        -1.06378360e-02,  -8.33908597e-03,  -5.34233398e-03,\n",
       "         0.00000000e+00,   0.00000000e+00,   0.00000000e+00,\n",
       "         0.00000000e+00])"
      ]
     },
     "execution_count": 123,
     "metadata": {},
     "output_type": "execute_result"
    }
   ],
   "source": [
    "X_estandarizado = estandarizacion(X)\n",
    "X_estandarizado[100]"
   ]
  },
  {
   "cell_type": "markdown",
   "metadata": {},
   "source": [
    "### Z-score estandar or Min-Max escala?\n",
    "Depende de la aplicacion por eso mas adelante luego de completar el algoritmo de entrenamiento vamos a experimentar con los 2 para comprar resultados."
   ]
  },
  {
   "cell_type": "markdown",
   "metadata": {},
   "source": [
    "## Test y Train Set"
   ]
  },
  {
   "cell_type": "markdown",
   "metadata": {},
   "source": [
    "** Importante **, el data set MNIST ya esta dividido en training set y test set.\n",
    "Las primeras 60,000 imagenes son el training set y las 10,000 restantes son son test set, en la siguiente celda vamos a separar los datos."
   ]
  },
  {
   "cell_type": "code",
   "execution_count": 124,
   "metadata": {
    "collapsed": true
   },
   "outputs": [],
   "source": [
    "X_train, X_test = X[:60000], X[60000:]\n",
    "y_train, y_test = y[:60000], y[60000:]"
   ]
  },
  {
   "cell_type": "markdown",
   "metadata": {},
   "source": [
    "** Importante **, Muchos algoritmos de machine learning se pueden ver afectados si los datos de entrenamiento estan en orden, en esta caso pareciera que las 10 clases de digitos enstan en orden y esto va a causar que nuestro algoritmo de clasificacion funcione mal, por lo que hay que cambiar el orden de los datos."
   ]
  },
  {
   "cell_type": "code",
   "execution_count": 125,
   "metadata": {},
   "outputs": [
    {
     "name": "stdout",
     "output_type": "stream",
     "text": [
      "0.0\n",
      "0.0\n",
      "4.0\n",
      "6.0\n",
      "8.0\n"
     ]
    }
   ],
   "source": [
    "print(y[10])\n",
    "print(y[100])\n",
    "print(y[30000])\n",
    "print(y[40000])\n",
    "print(y[50000])\n",
    "\n",
    "## Prueba de que los datos estan ordenados ##"
   ]
  },
  {
   "cell_type": "code",
   "execution_count": 126,
   "metadata": {
    "collapsed": true
   },
   "outputs": [],
   "source": [
    "## Cambiando el orden ##\n",
    "shuffle_index = np.random.permutation(60000)\n",
    "X_train, y_train = X_train[shuffle_index], y_train[shuffle_index]"
   ]
  },
  {
   "cell_type": "markdown",
   "metadata": {},
   "source": [
    "# Hipotesis\n",
    "\n",
    "Funcion Sigmoid:\n",
    "\n",
    "$sig(t) = {\\frac {1} {1 + e^{-t}}}$\n",
    "\n",
    "combinamos la función sigmoid/lógistica con esta hipótesis conocida tenemos la nueva hipótesis para clasificación con regresión lógistica:\n",
    "\n",
    "$z = \\theta_{0} + \\theta_{1}x_{1} + \\theta_{2}x_{2} + \\ldots + \\theta_{n}x_{n}$\n",
    "\n",
    "$g(z) = {\\frac {1} {1 + e^{-z}}}$\n",
    "\n",
    "** Hipótesis para clasificación con regresión logística: **\n",
    "\n",
    "$h_{\\theta}(x) = {\\frac {1} {1 + e^{-(\\theta_{0} + \\theta_{1}x_{1} + \\theta_{2}x_{2} + \\ldots + \\theta_{n}x_{n})}}}$"
   ]
  },
  {
   "cell_type": "markdown",
   "metadata": {},
   "source": [
    "Vamos a construir la Hipotesis por partes, la primer parte es la funcion sigmoid, en la siguiente celda vamos a programar la funcion sigmoid.\n",
    "\n",
    "Vamos a usar el exponencial de numpy de esta forma : `np.exp(x)`"
   ]
  },
  {
   "cell_type": "code",
   "execution_count": 127,
   "metadata": {},
   "outputs": [],
   "source": [
    "## Sigmoid \n",
    "import math\n",
    "    ### INICIO: TU CODIGO AQUI: ###\n",
    "def sigmoid(X):\n",
    "    s = 1 / (1 + math.exp(-X))\n",
    "    return (s)\n",
    "    ### FIN ##"
   ]
  },
  {
   "cell_type": "code",
   "execution_count": 128,
   "metadata": {},
   "outputs": [
    {
     "name": "stdout",
     "output_type": "stream",
     "text": [
      "sigmoid(0) = 0.5\n",
      "sigmoid(9.2) = 0.9998989708060922\n"
     ]
    }
   ],
   "source": [
    "### Validando nuestra funcion sigmoid\n",
    "print (\"sigmoid(0) = \" + str(sigmoid(0)))\n",
    "print (\"sigmoid(9.2) = \" + str(sigmoid(9.2)))"
   ]
  },
  {
   "cell_type": "markdown",
   "metadata": {},
   "source": [
    "#### Resultados esperados\n",
    "\n",
    "**sigmoid(0)** = 0.5\n",
    "\n",
    "**sigmoid(9.2)** = 0.999898970806\n"
   ]
  },
  {
   "cell_type": "markdown",
   "metadata": {},
   "source": [
    "Implementado la funcion de hipótesis para clasificación con regresión logística\n",
    "\n",
    "** Hipótesis para clasificación con regresión logística: **\n",
    "\n",
    "$h_{\\theta}(x) = {\\frac {1} {1 + e^{-(\\theta_{0} + \\theta_{1}x_{1} + \\theta_{2}x_{2} + \\ldots + \\theta_{n}x_{n})}}}$"
   ]
  },
  {
   "cell_type": "code",
   "execution_count": 129,
   "metadata": {},
   "outputs": [],
   "source": [
    "def get_hipotesis(features, theta_values):\n",
    "    ## Calculo de la hipotesis de froma vectorizada ##\n",
    "    z = features.dot(theta_values)\n",
    "    \n",
    "    ### INICIO: TU CODIGO AQUI: ###\n",
    "    h = (1/(1+ math.exp(z)))\n",
    "    #########\n",
    "    \n",
    "    return h"
   ]
  },
  {
   "cell_type": "markdown",
   "metadata": {},
   "source": [
    "# Costo\n",
    "\n",
    "$J(\\Theta) = - {\\frac {1}{m}}\\sum _{i=1}^{m} y \\log(h(x)) + (1-y)\\log(1-h(x))$\n",
    "\n",
    "Utiliza la funcion log de numpy, Ejemplo:\n",
    "`np.log(y)`"
   ]
  },
  {
   "cell_type": "code",
   "execution_count": 130,
   "metadata": {
    "collapsed": true
   },
   "outputs": [],
   "source": [
    "def costo(X, theta_vector, y):\n",
    "    m = len(y)\n",
    "\n",
    "    ### INICIO: TU CODIGO AQUI: ###\n",
    "    y_hat = regressor.predict(X_train)\n",
    "    \n",
    "    costo = y*(np.log(h+(1-y)*np.log(1-h)))\n",
    "    ### FIN ###########                   \n",
    "    return costo\n"
   ]
  },
  {
   "cell_type": "markdown",
   "metadata": {},
   "source": [
    "### Probando la funcion de costo"
   ]
  },
  {
   "cell_type": "code",
   "execution_count": 131,
   "metadata": {},
   "outputs": [
    {
     "ename": "NameError",
     "evalue": "name 'regressor' is not defined",
     "output_type": "error",
     "traceback": [
      "\u001b[1;31m---------------------------------------------------------------------------\u001b[0m",
      "\u001b[1;31mNameError\u001b[0m                                 Traceback (most recent call last)",
      "\u001b[1;32m<ipython-input-131-b39819efc82a>\u001b[0m in \u001b[0;36m<module>\u001b[1;34m()\u001b[0m\n\u001b[0;32m      7\u001b[0m \u001b[1;33m\u001b[0m\u001b[0m\n\u001b[0;32m      8\u001b[0m \u001b[0mtheta_values\u001b[0m \u001b[1;33m=\u001b[0m \u001b[0mnp\u001b[0m\u001b[1;33m.\u001b[0m\u001b[0mload\u001b[0m\u001b[1;33m(\u001b[0m\u001b[1;34m'theta_values_0.npy'\u001b[0m\u001b[1;33m)\u001b[0m\u001b[1;33m\u001b[0m\u001b[0m\n\u001b[1;32m----> 9\u001b[1;33m \u001b[0mcosto\u001b[0m\u001b[1;33m(\u001b[0m\u001b[0mX_train_features\u001b[0m\u001b[1;33m,\u001b[0m \u001b[0mtheta_values\u001b[0m\u001b[1;33m,\u001b[0m \u001b[0my\u001b[0m\u001b[1;33m)\u001b[0m\u001b[1;33m\u001b[0m\u001b[0m\n\u001b[0m\u001b[0;32m     10\u001b[0m \u001b[1;33m\u001b[0m\u001b[0m\n\u001b[0;32m     11\u001b[0m \u001b[1;31m## El resultado deberia ser aprox. 2.167050936535808##\u001b[0m\u001b[1;33m\u001b[0m\u001b[1;33m\u001b[0m\u001b[0m\n",
      "\u001b[1;32m<ipython-input-130-57d935792426>\u001b[0m in \u001b[0;36mcosto\u001b[1;34m(X, theta_vector, y)\u001b[0m\n\u001b[0;32m      3\u001b[0m \u001b[1;33m\u001b[0m\u001b[0m\n\u001b[0;32m      4\u001b[0m     \u001b[1;31m### INICIO: TU CODIGO AQUI: ###\u001b[0m\u001b[1;33m\u001b[0m\u001b[1;33m\u001b[0m\u001b[0m\n\u001b[1;32m----> 5\u001b[1;33m     \u001b[0my_hat\u001b[0m \u001b[1;33m=\u001b[0m \u001b[0mregressor\u001b[0m\u001b[1;33m.\u001b[0m\u001b[0mpredict\u001b[0m\u001b[1;33m(\u001b[0m\u001b[0mX_train\u001b[0m\u001b[1;33m)\u001b[0m\u001b[1;33m\u001b[0m\u001b[0m\n\u001b[0m\u001b[0;32m      6\u001b[0m \u001b[1;33m\u001b[0m\u001b[0m\n\u001b[0;32m      7\u001b[0m     \u001b[0mcosto\u001b[0m \u001b[1;33m=\u001b[0m \u001b[0my\u001b[0m\u001b[1;33m*\u001b[0m\u001b[1;33m(\u001b[0m\u001b[0mnp\u001b[0m\u001b[1;33m.\u001b[0m\u001b[0mlog\u001b[0m\u001b[1;33m(\u001b[0m\u001b[0mh\u001b[0m\u001b[1;33m+\u001b[0m\u001b[1;33m(\u001b[0m\u001b[1;36m1\u001b[0m\u001b[1;33m-\u001b[0m\u001b[0my\u001b[0m\u001b[1;33m)\u001b[0m\u001b[1;33m*\u001b[0m\u001b[0mnp\u001b[0m\u001b[1;33m.\u001b[0m\u001b[0mlog\u001b[0m\u001b[1;33m(\u001b[0m\u001b[1;36m1\u001b[0m\u001b[1;33m-\u001b[0m\u001b[0mh\u001b[0m\u001b[1;33m)\u001b[0m\u001b[1;33m)\u001b[0m\u001b[1;33m)\u001b[0m\u001b[1;33m\u001b[0m\u001b[0m\n",
      "\u001b[1;31mNameError\u001b[0m: name 'regressor' is not defined"
     ]
    }
   ],
   "source": [
    "## TEST 1 ##\n",
    "number_features = 784 + 1\n",
    "X_train_features = np.ones((60000, number_features))\n",
    "X_train_features[:,:-1] = X_train\n",
    "X_train_features = normalizar(X_train_features)\n",
    "y = (y_train == 6).astype(int) \n",
    "\n",
    "theta_values = np.load('theta_values_0.npy')\n",
    "costo(X_train_features, theta_values, y)\n",
    "\n",
    "## El resultado deberia ser aprox. 2.167050936535808##"
   ]
  },
  {
   "cell_type": "code",
   "execution_count": 24,
   "metadata": {},
   "outputs": [
    {
     "data": {
      "text/plain": [
       "0.3764640518125625"
      ]
     },
     "execution_count": 24,
     "metadata": {},
     "output_type": "execute_result"
    }
   ],
   "source": [
    "## TEST 2 ##\n",
    "theta_values = np.load('theta_values_2.npy')\n",
    "costo(X_train_features, theta_values, y)\n",
    "\n",
    "## El resultado deberia ser aprox. 0.3764640518125625 ##"
   ]
  },
  {
   "cell_type": "code",
   "execution_count": 25,
   "metadata": {},
   "outputs": [
    {
     "data": {
      "text/plain": [
       "0.2855149197067553"
      ]
     },
     "execution_count": 25,
     "metadata": {},
     "output_type": "execute_result"
    }
   ],
   "source": [
    "## TEST 3 ##\n",
    "theta_values = np.load('theta_values_3.npy')\n",
    "costo(X_train_features, theta_values, y)\n",
    "\n",
    "## El resultado deberia ser aprox. 0.2855149197067553 ##"
   ]
  },
  {
   "cell_type": "markdown",
   "metadata": {},
   "source": [
    "# Gradient Descent\n",
    "\n",
    "Repetir{\n",
    "\n",
    "$\\theta_{j} := \\theta _{j} - \\alpha {\\frac {1}{m}} \\sum _{i=1}^{m}(h_{\\theta}(x^{(i)})-y^{(i)})x^{(i)}_{j}$\n",
    "\n",
    "}\n",
    "        \n",
    "Simultaneamente para cada $j = 0,\\ldots,n $"
   ]
  },
  {
   "cell_type": "code",
   "execution_count": 134,
   "metadata": {
    "collapsed": true
   },
   "outputs": [],
   "source": [
    "from sklearn.metrics import log_loss\n",
    "\n",
    "def gradient_descent(X, y, theta_vector, alpha, iterations):\n",
    "    \n",
    "    m = len(y) \n",
    "\n",
    "    ## Cost vector\n",
    "    cost_vect = []\n",
    "    \n",
    "    for iteration in range(iterations):\n",
    "        '''\n",
    "        IMPLELEMTA TU CODIGO AQUI, llama a la funcion para calcular la hipotesis\n",
    "        que se implemento mas arriba. Parametros matriz de features X y el vector\n",
    "        con los valores Theta\n",
    "        '''\n",
    "        h = get_hipotesis(X, theta_vector)\n",
    "\n",
    "        theta_vector_temp = []\n",
    "        for i, theta in enumerate(theta_vector):\n",
    "            '''\n",
    "            IMPLELEMTA TU CODIGO AQUI, adentro de este ciclo vamos a calcular\n",
    "            elnuevo valor de Theta[i], utilizando la formula de la celda de arriba\n",
    "            Recuerda que para multiplicar por utilizamos X[:,i]\n",
    "            '''\n",
    "            nuevo_theta = theta_vector-alpha*(1/(int(m))*np.sum(np.subtract(lm.predict(features),y)*X[:,i]))\n",
    "\n",
    "            ### aqui agregamos el nuevo valor the theta[i] a un vector temporal\n",
    "            theta_vector_temp.append(nuevo_theta)\n",
    "\n",
    "\n",
    "        ## Actualizamos el vector theta con los nuevos valores\n",
    "        theta_vector = theta_vector_temp\n",
    "\n",
    "        '''\n",
    "        IMPLELEMTA TU CODIGO AQUI, llama a la funcion de costo\n",
    "        '''\n",
    "        cost = cost_function(X, y, theta_values)\n",
    "\n",
    "\n",
    "        \n",
    "        ## Guardando el valor del costo para graficarlo ##\n",
    "        cost_vect.append(cost)\n",
    "        \n",
    "        n = 50 ### Ingresa aqui cada cuantas iteraciones quieres que se imprima el valor del costo ###\n",
    "        \n",
    "        ## Este codigo no hay que modificarlo ##\n",
    "        if(iteration % n == 0):\n",
    "            print('#####################')\n",
    "            print('Iteracion: ', iteration)\n",
    "            print('Costo: ', cost)\n",
    "\n",
    "            \n",
    "\n",
    "    print('Costo: ', cost)\n",
    "    \n",
    "    return theta_vector, cost_vect"
   ]
  },
  {
   "cell_type": "markdown",
   "metadata": {},
   "source": [
    "### Ejecutamos el gradient descent\n",
    "\n",
    "Ya definimos la funcion de gradient descent, ahora vamos a experimentar con el numero de iteraciones y el valor de alpha en la siguiente celda hasta que logremos obtener un costo <= 0.35"
   ]
  },
  {
   "cell_type": "code",
   "execution_count": 135,
   "metadata": {},
   "outputs": [],
   "source": [
    "## Numero de iteracions ##\n",
    "iterations =   200\n",
    "\n",
    "## Alpha ##\n",
    "alpha =  0.0000005\n",
    "\n",
    "## No hay que cambiar el codigo despues de esta linea ##\n",
    "## Numero de feautres ##\n",
    "number_features = 784 + 1\n",
    "\n",
    "## Creamos un vector donde se almacenan los valores de Theta,\n",
    "## lo inicializamos con numeros aleatorios\n",
    "theta_vector = np.random.rand(number_features)\n",
    "\n",
    "\n",
    "### Generamos un arreglo con valores binarios donde definimos como 0 las labes que no son 6 y como 1 las que son 6\n",
    "y = (y_train == 6).astype(int) \n",
    "\n",
    "# Creando la Matriz X de features\n",
    "X_train_features = np.ones((60000, number_features))\n",
    "X_train_features[:,:-1] = X_train\n",
    "\n",
    "''' Ingresa tu codigo aqui: Normaliza las features de X_train_features llamando a la funcion '''\n",
    "X_train_features_norm = normalizar(X_train_features)\n",
    "\n",
    "''' Ingresa tu codigo aqui: Estandariza las varibles llamando a la funcion '''\n",
    "X_train_features_std = estandarizacion(X_train_features)"
   ]
  },
  {
   "cell_type": "code",
   "execution_count": 136,
   "metadata": {},
   "outputs": [
    {
     "ename": "TypeError",
     "evalue": "only length-1 arrays can be converted to Python scalars",
     "output_type": "error",
     "traceback": [
      "\u001b[1;31m---------------------------------------------------------------------------\u001b[0m",
      "\u001b[1;31mTypeError\u001b[0m                                 Traceback (most recent call last)",
      "\u001b[1;32m<ipython-input-136-90b20e78ccf5>\u001b[0m in \u001b[0;36m<module>\u001b[1;34m()\u001b[0m\n\u001b[0;32m      1\u001b[0m \u001b[1;31m### Ejecutemos el algoritmo con las variables normalizadas ###\u001b[0m\u001b[1;33m\u001b[0m\u001b[1;33m\u001b[0m\u001b[0m\n\u001b[0;32m      2\u001b[0m \u001b[1;33m\u001b[0m\u001b[0m\n\u001b[1;32m----> 3\u001b[1;33m \u001b[0mtheta_values\u001b[0m\u001b[1;33m,\u001b[0m \u001b[0mcost_vect\u001b[0m \u001b[1;33m=\u001b[0m \u001b[0mgradient_descent\u001b[0m\u001b[1;33m(\u001b[0m\u001b[0mX_train_features_norm\u001b[0m\u001b[1;33m,\u001b[0m \u001b[0my\u001b[0m\u001b[1;33m,\u001b[0m \u001b[0mtheta_vector\u001b[0m\u001b[1;33m,\u001b[0m \u001b[0malpha\u001b[0m\u001b[1;33m,\u001b[0m \u001b[0miterations\u001b[0m\u001b[1;33m)\u001b[0m\u001b[1;33m\u001b[0m\u001b[0m\n\u001b[0m\u001b[0;32m      4\u001b[0m \u001b[1;33m\u001b[0m\u001b[0m\n\u001b[0;32m      5\u001b[0m \u001b[0mplt\u001b[0m\u001b[1;33m.\u001b[0m\u001b[0mplot\u001b[0m\u001b[1;33m(\u001b[0m\u001b[0mcost_vect\u001b[0m\u001b[1;33m,\u001b[0m \u001b[0mcolor\u001b[0m\u001b[1;33m=\u001b[0m\u001b[1;34m'red'\u001b[0m\u001b[1;33m,\u001b[0m \u001b[0mlabel\u001b[0m \u001b[1;33m=\u001b[0m \u001b[1;34m'Costo'\u001b[0m\u001b[1;33m)\u001b[0m\u001b[1;33m\u001b[0m\u001b[0m\n",
      "\u001b[1;32m<ipython-input-134-7d801f96e1e9>\u001b[0m in \u001b[0;36mgradient_descent\u001b[1;34m(X, y, theta_vector, alpha, iterations)\u001b[0m\n\u001b[0;32m     14\u001b[0m         \u001b[0mcon\u001b[0m \u001b[0mlos\u001b[0m \u001b[0mvalores\u001b[0m \u001b[0mTheta\u001b[0m\u001b[1;33m\u001b[0m\u001b[0m\n\u001b[0;32m     15\u001b[0m         '''\n\u001b[1;32m---> 16\u001b[1;33m         \u001b[0mh\u001b[0m \u001b[1;33m=\u001b[0m \u001b[0mget_hipotesis\u001b[0m\u001b[1;33m(\u001b[0m\u001b[0mX\u001b[0m\u001b[1;33m,\u001b[0m \u001b[0mtheta_vector\u001b[0m\u001b[1;33m)\u001b[0m\u001b[1;33m\u001b[0m\u001b[0m\n\u001b[0m\u001b[0;32m     17\u001b[0m \u001b[1;33m\u001b[0m\u001b[0m\n\u001b[0;32m     18\u001b[0m         \u001b[0mtheta_vector_temp\u001b[0m \u001b[1;33m=\u001b[0m \u001b[1;33m[\u001b[0m\u001b[1;33m]\u001b[0m\u001b[1;33m\u001b[0m\u001b[0m\n",
      "\u001b[1;32m<ipython-input-129-5ef51272b704>\u001b[0m in \u001b[0;36mget_hipotesis\u001b[1;34m(features, theta_values)\u001b[0m\n\u001b[0;32m      4\u001b[0m \u001b[1;33m\u001b[0m\u001b[0m\n\u001b[0;32m      5\u001b[0m     \u001b[1;31m### INICIO: TU CODIGO AQUI: ###\u001b[0m\u001b[1;33m\u001b[0m\u001b[1;33m\u001b[0m\u001b[0m\n\u001b[1;32m----> 6\u001b[1;33m     \u001b[0mh\u001b[0m \u001b[1;33m=\u001b[0m \u001b[1;33m(\u001b[0m\u001b[1;36m1\u001b[0m\u001b[1;33m/\u001b[0m\u001b[1;33m(\u001b[0m\u001b[1;36m1\u001b[0m\u001b[1;33m+\u001b[0m \u001b[0mmath\u001b[0m\u001b[1;33m.\u001b[0m\u001b[0mexp\u001b[0m\u001b[1;33m(\u001b[0m\u001b[0mz\u001b[0m\u001b[1;33m)\u001b[0m\u001b[1;33m)\u001b[0m\u001b[1;33m)\u001b[0m\u001b[1;33m\u001b[0m\u001b[0m\n\u001b[0m\u001b[0;32m      7\u001b[0m     \u001b[1;31m#########\u001b[0m\u001b[1;33m\u001b[0m\u001b[1;33m\u001b[0m\u001b[0m\n\u001b[0;32m      8\u001b[0m \u001b[1;33m\u001b[0m\u001b[0m\n",
      "\u001b[1;31mTypeError\u001b[0m: only length-1 arrays can be converted to Python scalars"
     ]
    }
   ],
   "source": [
    "### Ejecutemos el algoritmo con las variables normalizadas ###\n",
    "\n",
    "theta_values, cost_vect = gradient_descent(X_train_features_norm, y, theta_vector, alpha, iterations)\n",
    "\n",
    "plt.plot(cost_vect, color='red', label = 'Costo')\n",
    "plt.show()"
   ]
  },
  {
   "cell_type": "code",
   "execution_count": 29,
   "metadata": {},
   "outputs": [
    {
     "name": "stdout",
     "output_type": "stream",
     "text": [
      "#####################\n",
      "Iteracion:  0\n",
      "Costo:  7.9949957517227626\n",
      "#####################\n",
      "Iteracion:  50\n",
      "Costo:  5.256162144754438\n",
      "#####################\n",
      "Iteracion:  100\n",
      "Costo:  3.0270370154713624\n",
      "#####################\n",
      "Iteracion:  150\n",
      "Costo:  1.9556527805337451\n",
      "#####################\n",
      "Iteracion:  200\n",
      "Costo:  1.4205498924078286\n",
      "Costo:  1.1371762535093726\n"
     ]
    },
    {
     "data": {
      "image/png": "[encoded data removed]",
      "text/plain": [
       "<matplotlib.figure.Figure at 0x1055a9ef0>"
      ]
     },
     "metadata": {},
     "output_type": "display_data"
    }
   ],
   "source": [
    "### Ejecutemos el algoritmo con las variables estandarizadas, llama a la funcion gradient_descent ###\n",
    "## Recuerda utilizar X_train_features_std ##\n",
    "\n",
    "''' Ingresa tu codigo aqui: '''\n",
    "theta_values_std, cost_vect = \n",
    "\n",
    "plt.plot(cost_vect, color='red', label = 'Costo')\n",
    "plt.show()"
   ]
  },
  {
   "cell_type": "markdown",
   "metadata": {},
   "source": [
    "## Predicion\n",
    "\n",
    "Esta funcion la vamos a utilizar para probar nuestro algoritmo.\n",
    "Vamos a comprar los theta values de nuestro algoritmo\n",
    "* theta_values (normalizado)\n",
    "* theta_values_std (estandarizado)"
   ]
  },
  {
   "cell_type": "code",
   "execution_count": 45,
   "metadata": {
    "collapsed": true
   },
   "outputs": [],
   "source": [
    "def predict(x,w): \n",
    "    x_features = np.ones((x.shape[0]+1,))\n",
    "    x_features[:-1,] = x\n",
    "    \n",
    "    prediccion = round(get_hipotesis(x_features,w) * 100,2)\n",
    "    print('Hay una probabilidad de %f %% que sea un numero 6' % prediccion)"
   ]
  },
  {
   "cell_type": "code",
   "execution_count": 46,
   "metadata": {},
   "outputs": [
    {
     "name": "stderr",
     "output_type": "stream",
     "text": [
      "/Users/erickdiaz/anaconda3/envs/rsm_test2/lib/python3.6/site-packages/sklearn/utils/validation.py:475: DataConversionWarning: Data with input dtype uint8 was converted to float64 by StandardScaler.\n",
      "  warnings.warn(msg, DataConversionWarning)\n"
     ]
    }
   ],
   "source": [
    "X_test_norm = normalizar(X_test)\n",
    "X_test_std = estandarizacion(X_test)"
   ]
  },
  {
   "cell_type": "code",
   "execution_count": 51,
   "metadata": {},
   "outputs": [
    {
     "name": "stdout",
     "output_type": "stream",
     "text": [
      "Label: 0.0\n"
     ]
    },
    {
     "data": {
      "image/png": "[encoded data removed]",
      "text/plain": [
       "<matplotlib.figure.Figure at 0x1a31100358>"
      ]
     },
     "metadata": {},
     "output_type": "display_data"
    },
    {
     "name": "stdout",
     "output_type": "stream",
     "text": [
      "Features normalizadas:\n",
      "Hay una probabilidad de 0.020000 % que sea un numero 6\n",
      "Features estandarizadas:\n",
      "Hay una probabilidad de 1.220000 % que sea un numero 6\n"
     ]
    }
   ],
   "source": [
    "print('Label:', y_test[50])\n",
    "\n",
    "mostrar_digito(X_test[50])\n",
    "\n",
    "print(\"Features normalizadas:\")\n",
    "predict(X_test_norm[50], theta_values)\n",
    "print(\"Features estandarizadas:\")\n",
    "predict(X_test_std[50], theta_values_std)"
   ]
  },
  {
   "cell_type": "code",
   "execution_count": 52,
   "metadata": {},
   "outputs": [
    {
     "name": "stdout",
     "output_type": "stream",
     "text": [
      "Label: 4.0\n"
     ]
    },
    {
     "data": {
      "image/png": "[encoded data removed]",
      "text/plain": [
       "<matplotlib.figure.Figure at 0x1a4abf7588>"
      ]
     },
     "metadata": {},
     "output_type": "display_data"
    },
    {
     "name": "stdout",
     "output_type": "stream",
     "text": [
      "Features normalizadas:\n",
      "Hay una probabilidad de 0.060000 % que sea un numero 6\n",
      "Features estandarizadas:\n",
      "Hay una probabilidad de 53.440000 % que sea un numero 6\n"
     ]
    }
   ],
   "source": [
    "print('Label:', y_test[5000])\n",
    "\n",
    "mostrar_digito(X_test[5000])\n",
    "\n",
    "print(\"Features normalizadas:\")\n",
    "predict(X_test_norm[5000], theta_values)\n",
    "print(\"Features estandarizadas:\")\n",
    "predict(X_test_std[5000], theta_values_std)"
   ]
  },
  {
   "cell_type": "code",
   "execution_count": 53,
   "metadata": {},
   "outputs": [
    {
     "name": "stdout",
     "output_type": "stream",
     "text": [
      "Label: 6.0\n"
     ]
    },
    {
     "data": {
      "image/png": "[encoded data removed]",
      "text/plain": [
       "<matplotlib.figure.Figure at 0x1a33fee400>"
      ]
     },
     "metadata": {},
     "output_type": "display_data"
    },
    {
     "name": "stdout",
     "output_type": "stream",
     "text": [
      "Features normalizadas:\n",
      "Hay una probabilidad de 53.620000 % que sea un numero 6\n",
      "Features estandarizadas:\n",
      "Hay una probabilidad de 100.000000 % que sea un numero 6\n"
     ]
    }
   ],
   "source": [
    "print('Label:', y_test[6590])\n",
    "\n",
    "mostrar_digito(X_test[6590])\n",
    "\n",
    "print(\"Features normalizadas:\")\n",
    "predict(X_test_norm[6590], theta_values)\n",
    "print(\"Features estandarizadas:\")\n",
    "predict(X_test_std[6590], theta_values_std)"
   ]
  },
  {
   "cell_type": "markdown",
   "metadata": {},
   "source": [
    "# Regresion Logistica con Sklearn"
   ]
  },
  {
   "cell_type": "code",
   "execution_count": 54,
   "metadata": {
    "collapsed": true
   },
   "outputs": [],
   "source": [
    "from sklearn.linear_model import SGDClassifier\n"
   ]
  },
  {
   "cell_type": "code",
   "execution_count": 55,
   "metadata": {
    "collapsed": true
   },
   "outputs": [],
   "source": [
    "y_train_6 = (y_train == 6)  \n",
    "y_test_6 = (y_test == 6)"
   ]
  },
  {
   "cell_type": "code",
   "execution_count": 56,
   "metadata": {},
   "outputs": [
    {
     "data": {
      "text/plain": [
       "SGDClassifier(alpha=0.0001, average=False, class_weight=None, epsilon=0.1,\n",
       "       eta0=0.0, fit_intercept=True, l1_ratio=0.15,\n",
       "       learning_rate='optimal', loss='hinge', max_iter=1000, n_iter=None,\n",
       "       n_jobs=1, penalty='l2', power_t=0.5, random_state=42, shuffle=True,\n",
       "       tol=None, verbose=0, warm_start=False)"
      ]
     },
     "execution_count": 56,
     "metadata": {},
     "output_type": "execute_result"
    }
   ],
   "source": [
    "sgd_clf = SGDClassifier(random_state=42, max_iter=1000)\n",
    "sgd_clf.fit(X_train, y_train_6)"
   ]
  },
  {
   "cell_type": "markdown",
   "metadata": {},
   "source": [
    "## Probando el Clasificador"
   ]
  },
  {
   "cell_type": "code",
   "execution_count": 57,
   "metadata": {},
   "outputs": [
    {
     "name": "stdout",
     "output_type": "stream",
     "text": [
      "0.0\n"
     ]
    },
    {
     "data": {
      "image/png": "[encoded data removed]",
      "text/plain": [
       "<matplotlib.figure.Figure at 0x1a4b292e10>"
      ]
     },
     "metadata": {},
     "output_type": "display_data"
    },
    {
     "name": "stdout",
     "output_type": "stream",
     "text": [
      "Es un numero 6?\n"
     ]
    },
    {
     "data": {
      "text/plain": [
       "array([False])"
      ]
     },
     "execution_count": 57,
     "metadata": {},
     "output_type": "execute_result"
    }
   ],
   "source": [
    "print(y_test[50])\n",
    "\n",
    "digito = X_test[50]\n",
    "mostrar_digito(digito)\n",
    "\n",
    "print(\"Es un numero 6?\")\n",
    "sgd_clf.predict(digito.reshape(1, -1))"
   ]
  },
  {
   "cell_type": "code",
   "execution_count": 58,
   "metadata": {},
   "outputs": [
    {
     "name": "stdout",
     "output_type": "stream",
     "text": [
      "4.0\n"
     ]
    },
    {
     "data": {
      "image/png": "[encoded data removed]",
      "text/plain": [
       "<matplotlib.figure.Figure at 0x1a4b292ac8>"
      ]
     },
     "metadata": {},
     "output_type": "display_data"
    },
    {
     "name": "stdout",
     "output_type": "stream",
     "text": [
      "Es un numero 6?\n"
     ]
    },
    {
     "data": {
      "text/plain": [
       "array([False])"
      ]
     },
     "execution_count": 58,
     "metadata": {},
     "output_type": "execute_result"
    }
   ],
   "source": [
    "print(y_test[5000])\n",
    "\n",
    "digito = X_test[5000]\n",
    "mostrar_digito(digito)\n",
    "\n",
    "print(\"Es un numero 6?\")\n",
    "sgd_clf.predict(digito.reshape(1, -1))"
   ]
  },
  {
   "cell_type": "code",
   "execution_count": 59,
   "metadata": {},
   "outputs": [
    {
     "name": "stdout",
     "output_type": "stream",
     "text": [
      "6.0\n"
     ]
    },
    {
     "data": {
      "image/png": "[encoded data removed]",
      "text/plain": [
       "<matplotlib.figure.Figure at 0x1a4b2929e8>"
      ]
     },
     "metadata": {},
     "output_type": "display_data"
    },
    {
     "name": "stdout",
     "output_type": "stream",
     "text": [
      "Es un numero 6?\n"
     ]
    },
    {
     "data": {
      "text/plain": [
       "array([ True])"
      ]
     },
     "execution_count": 59,
     "metadata": {},
     "output_type": "execute_result"
    }
   ],
   "source": [
    "print(y_test[6500])\n",
    "\n",
    "digito = X_test[6500]\n",
    "mostrar_digito(digito)\n",
    "\n",
    "print(\"Es un numero 6?\")\n",
    "sgd_clf.predict(digito.reshape(1, -1))"
   ]
  },
  {
   "cell_type": "code",
   "execution_count": 107,
   "metadata": {},
   "outputs": [
    {
     "name": "stdout",
     "output_type": "stream",
     "text": [
      "6.0\n"
     ]
    },
    {
     "data": {
      "image/png": "[encoded data removed]",
      "text/plain": [
       "<matplotlib.figure.Figure at 0x1ac6bb702b0>"
      ]
     },
     "metadata": {},
     "output_type": "display_data"
    },
    {
     "name": "stdout",
     "output_type": "stream",
     "text": [
      "Es un numero 6?\n"
     ]
    },
    {
     "ename": "NameError",
     "evalue": "name 'sgd_clf' is not defined",
     "output_type": "error",
     "traceback": [
      "\u001b[1;31m---------------------------------------------------------------------------\u001b[0m",
      "\u001b[1;31mNameError\u001b[0m                                 Traceback (most recent call last)",
      "\u001b[1;32m<ipython-input-107-79e1519bdb6e>\u001b[0m in \u001b[0;36m<module>\u001b[1;34m()\u001b[0m\n\u001b[0;32m      5\u001b[0m \u001b[1;33m\u001b[0m\u001b[0m\n\u001b[0;32m      6\u001b[0m \u001b[0mprint\u001b[0m\u001b[1;33m(\u001b[0m\u001b[1;34m\"Es un numero 6?\"\u001b[0m\u001b[1;33m)\u001b[0m\u001b[1;33m\u001b[0m\u001b[0m\n\u001b[1;32m----> 7\u001b[1;33m \u001b[0msgd_clf\u001b[0m\u001b[1;33m.\u001b[0m\u001b[0mpredict\u001b[0m\u001b[1;33m(\u001b[0m\u001b[0mdigito\u001b[0m\u001b[1;33m.\u001b[0m\u001b[0mreshape\u001b[0m\u001b[1;33m(\u001b[0m\u001b[1;36m1\u001b[0m\u001b[1;33m,\u001b[0m \u001b[1;33m-\u001b[0m\u001b[1;36m1\u001b[0m\u001b[1;33m)\u001b[0m\u001b[1;33m)\u001b[0m\u001b[1;33m\u001b[0m\u001b[0m\n\u001b[0m\u001b[0;32m      8\u001b[0m \u001b[1;32mreturn\u001b[0m \u001b[0mrand\u001b[0m\u001b[1;33m(\u001b[0m\u001b[1;33m)\u001b[0m\u001b[1;33m<=\u001b[0m\u001b[0mprobability\u001b[0m\u001b[1;33m\u001b[0m\u001b[0m\n",
      "\u001b[1;31mNameError\u001b[0m: name 'sgd_clf' is not defined"
     ]
    }
   ],
   "source": [
    "print(y_test[6550])\n",
    "\n",
    "digito = X_test[6550]\n",
    "mostrar_digito(digito)\n",
    "\n",
    "print(\"Es un numero 6?\")\n",
    "sgd_clf.predict(digito.reshape(1, -1))\n",
    "return rand()<=probability"
   ]
  }
 ],
 "metadata": {
  "kernelspec": {
   "display_name": "Python 3",
   "language": "python",
   "name": "python3"
  },
  "language_info": {
   "codemirror_mode": {
    "name": "ipython",
    "version": 3
   },
   "file_extension": ".py",
   "mimetype": "text/x-python",
   "name": "python",
   "nbconvert_exporter": "python",
   "pygments_lexer": "ipython3",
   "version": "3.6.3"
  }
 },
 "nbformat": 4,
 "nbformat_minor": 2
}
